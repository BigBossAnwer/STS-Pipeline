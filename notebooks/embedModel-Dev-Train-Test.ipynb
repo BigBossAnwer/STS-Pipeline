{
  "nbformat": 4,
  "nbformat_minor": 0,
  "metadata": {
    "colab": {
      "name": "embedModel-Dev-Train-Test.ipynb",
      "provenance": [],
      "collapsed_sections": []
    },
    "kernelspec": {
      "name": "python3",
      "display_name": "Python 3"
    }
  },
  "cells": [
    {
      "cell_type": "code",
      "metadata": {
        "id": "MOCAuYXAp0aY",
        "colab_type": "code",
        "colab": {}
      },
      "source": [
        "%%capture\n",
        "# Install the latest Tensorflow version.\n",
        "!pip3 install --upgrade tensorflow-gpu\n",
        "# Install TF-Hub.\n",
        "!pip3 install tensorflow-hub\n",
        "!pip3 install seaborn"
      ],
      "execution_count": 0,
      "outputs": []
    },
    {
      "cell_type": "code",
      "metadata": {
        "id": "tSLiH4bgp5In",
        "colab_type": "code",
        "colab": {}
      },
      "source": [
        "from absl import logging\n",
        "import json\n",
        "\n",
        "import tensorflow as tf\n",
        "import tensorflow_hub as hub\n",
        "import numpy as np\n",
        "import pandas as pd\n",
        "from scipy.stats import pearsonr"
      ],
      "execution_count": 0,
      "outputs": []
    },
    {
      "cell_type": "code",
      "metadata": {
        "id": "P1a_3wSh8IPq",
        "colab_type": "code",
        "outputId": "6cf81702-172c-4d99-ec4a-246e99f6e97e",
        "colab": {
          "base_uri": "https://localhost:8080/",
          "height": 53
        }
      },
      "source": [
        "module_url = \"https://tfhub.dev/google/universal-sentence-encoder/4\"\n",
        "model = hub.load(module_url)\n",
        "print (\"module %s loaded\" % module_url)\n",
        "def embed(input):\n",
        "  return model(input)\n",
        "\n",
        "print(tf.__version__)"
      ],
      "execution_count": 3,
      "outputs": [
        {
          "output_type": "stream",
          "text": [
            "module https://tfhub.dev/google/universal-sentence-encoder/4 loaded\n",
            "2.0.0\n"
          ],
          "name": "stdout"
        }
      ]
    },
    {
      "cell_type": "code",
      "metadata": {
        "id": "Qf0zGilMtVBp",
        "colab_type": "code",
        "colab": {}
      },
      "source": [
        "def embed_pipe(batch):\n",
        "  s1_embed = tf.nn.l2_normalize(embed(tf.constant(batch['s1'].tolist())), axis=1)\n",
        "  s2_embed = tf.nn.l2_normalize(embed(tf.constant(batch['s2'].tolist())), axis=1)\n",
        "  cosine_similarities = tf.reduce_sum(tf.multiply(s1_embed, s2_embed), axis=1)\n",
        "  clip_cosine_similarities = tf.clip_by_value(cosine_similarities, -1.0, 1.0)\n",
        "  score = 1.0 - tf.scalar_mul((1 / np.pi), tf.acos(clip_cosine_similarities))  \n",
        "  predics = tf.scalar_mul(4, score) + 1.0\n",
        "\n",
        "  return predics"
      ],
      "execution_count": 0,
      "outputs": []
    },
    {
      "cell_type": "code",
      "metadata": {
        "id": "SKoD9D9JzoeL",
        "colab_type": "code",
        "colab": {}
      },
      "source": [
        "def rmse(predictions, targets):\n",
        "    assert len(predictions) == len(targets)\n",
        "    return np.sqrt(((predictions - targets) ** 2).mean())\n",
        "\n",
        "\n",
        "def accuracy(predictions, targets):\n",
        "    assert len(predictions) == len(targets)\n",
        "    count_pos = 0\n",
        "    for predic, gold in zip(predictions, targets):\n",
        "        if predic == gold:\n",
        "            count_pos += 1\n",
        "\n",
        "    return float(count_pos) / len(targets)\n",
        "\n",
        "\n",
        "# Scraped from evaluation.py, returns recall, precision, f1\n",
        "def get_scores(predictions, targets, prec=3):\n",
        "    label_set = [1, 2, 3, 4, 5]\n",
        "    classification_report = {}\n",
        "    classification_report[\"micro\"] = {\"recall\": 0.0, \"precision\": 0.0, \"fscore\": 0.0}\n",
        "    for label in label_set:\n",
        "        classification_report[label] = {\"recall\": 0.0, \"precision\": 0.0, \"fscore\": 0.0}\n",
        "        tp, fp, fn = 0, 0, 0\n",
        "        for idx, gold in enumerate(targets):\n",
        "            prediction = predictions[idx]\n",
        "            if gold == prediction:\n",
        "                if prediction == label:\n",
        "                    tp += 1\n",
        "            else:\n",
        "                if prediction == label:\n",
        "                    fp += 1\n",
        "                else:\n",
        "                    fn += 1\n",
        "        try:\n",
        "            recall = float(tp) / (tp + fn)\n",
        "        except ZeroDivisionError:\n",
        "            recall = 0.0\n",
        "        try:\n",
        "            precision = float(tp) / (tp + fp)\n",
        "        except ZeroDivisionError:\n",
        "            precision = 0.0\n",
        "        try:\n",
        "            fscore = 2 * precision * recall / (precision + recall)\n",
        "        except ZeroDivisionError:\n",
        "            fscore = 0.0\n",
        "        classification_report[label][\"recall\"] = round(recall, prec)\n",
        "        classification_report[label][\"precision\"] = round(precision, prec)\n",
        "        classification_report[label][\"fscore\"] = round(fscore, prec)\n",
        "        classification_report[\"micro\"][\"recall\"] += recall\n",
        "        classification_report[\"micro\"][\"precision\"] += precision\n",
        "        classification_report[\"micro\"][\"fscore\"] += fscore\n",
        "\n",
        "    for key in classification_report[\"micro\"].keys():\n",
        "        classification_report[\"micro\"][key] /= len(label_set)\n",
        "        classification_report[\"micro\"][key] = round(\n",
        "            classification_report[\"micro\"][key], prec\n",
        "        )\n",
        "\n",
        "    return classification_report"
      ],
      "execution_count": 0,
      "outputs": []
    },
    {
      "cell_type": "code",
      "metadata": {
        "id": "j46nXA4arC-H",
        "colab_type": "code",
        "colab": {}
      },
      "source": [
        "#from google.colab import drive\n",
        "#drive.mount('/content/drive')\n",
        "#!ls \"/content/drive/My Drive/log\""
      ],
      "execution_count": 0,
      "outputs": []
    },
    {
      "cell_type": "code",
      "metadata": {
        "id": "7luCXw8xs3Sz",
        "colab_type": "code",
        "colab": {}
      },
      "source": [
        "dev = pd.read_csv(\"/content/drive/My Drive/log/dev.csv\", index_col=0)\n",
        "train = pd.read_csv(\"/content/drive/My Drive/log/train.csv\", index_col=0)\n",
        "test = pd.read_csv(\"/content/drive/My Drive/log/test.csv\", index_col=0)"
      ],
      "execution_count": 0,
      "outputs": []
    },
    {
      "cell_type": "code",
      "metadata": {
        "id": "ye-Rctb0tWSe",
        "colab_type": "code",
        "outputId": "a732ae72-45b7-430c-b459-30798b395070",
        "colab": {
          "base_uri": "https://localhost:8080/",
          "height": 53
        }
      },
      "source": [
        "%%time\n",
        "dev_predics = []\n",
        "for batch in np.array_split(dev, 10):\n",
        "  predic = embed_pipe(batch)\n",
        "  dev_predics.extend(predic)\n",
        "\n",
        "train_predics = []\n",
        "for batch in np.array_split(train, 10):\n",
        "  predic = embed_pipe(batch)\n",
        "  train_predics.extend(predic)\n",
        "\n",
        "test_predics = []\n",
        "for batch in np.array_split(test, 10):\n",
        "  predic = embed_pipe(batch)\n",
        "  test_predics.extend(predic)"
      ],
      "execution_count": 8,
      "outputs": [
        {
          "output_type": "stream",
          "text": [
            "CPU times: user 2.77 s, sys: 110 ms, total: 2.88 s\n",
            "Wall time: 2.14 s\n"
          ],
          "name": "stdout"
        }
      ]
    },
    {
      "cell_type": "code",
      "metadata": {
        "id": "EI9VcFM7w649",
        "colab_type": "code",
        "colab": {}
      },
      "source": [
        "dev[\"prediction\"] = [int(elem) for elem in np.round(dev_predics)]\n",
        "dev[\"noRound\"] = [elem.numpy() for elem in dev_predics]\n",
        "\n",
        "train[\"prediction\"] = [int(elem) for elem in np.round(train_predics)]\n",
        "train[\"noRound\"] = [elem.numpy() for elem in train_predics]\n",
        "\n",
        "test[\"prediction\"] = [int(elem) for elem in np.round(test_predics)]\n",
        "test[\"noRound\"] = [elem.numpy() for elem in test_predics]"
      ],
      "execution_count": 0,
      "outputs": []
    },
    {
      "cell_type": "code",
      "metadata": {
        "id": "PNArJVJP00vT",
        "colab_type": "code",
        "colab": {}
      },
      "source": [
        "dev.to_csv(\"/content/drive/My Drive/log/new_dev_embed_predics.csv\", index=False)\n",
        "res = dev[[\"id\", \"prediction\"]]\n",
        "res.to_csv(\"/content/drive/My Drive/log/new_dev_embedPredic.txt\", sep=\"\\t\", index=False)\n",
        "\n",
        "train.to_csv(\"/content/drive/My Drive/log/new_train_embed_predics.csv\", index=False)\n",
        "res = train[[\"id\", \"prediction\"]]\n",
        "res.to_csv(\"/content/drive/My Drive/log/new_train_embedPredic.txt\", sep=\"\\t\", index=False)\n",
        "\n",
        "test.to_csv(\"/content/drive/My Drive/log/new_test_embed_predics.csv\", index=False)\n",
        "res = test[[\"id\", \"prediction\"]]\n",
        "res.to_csv(\"/content/drive/My Drive/log/new_test_embedPredic.txt\", sep=\"\\t\", index=False)\n"
      ],
      "execution_count": 0,
      "outputs": []
    },
    {
      "cell_type": "code",
      "metadata": {
        "id": "MeU2YogW5cQo",
        "colab_type": "code",
        "outputId": "e0c04701-6dab-4a4b-c2c6-e7a5ba9a08ed",
        "colab": {
          "base_uri": "https://localhost:8080/",
          "height": 1000
        }
      },
      "source": [
        "for df, name in zip([dev, train], [\"Dev\", \"Train\"]):\n",
        "    acc = accuracy(df[\"prediction\"], df[\"gold\"])\n",
        "    _rmse = rmse(df[\"prediction\"], df[\"gold\"])\n",
        "    pear_corr = pearsonr(list(df[\"prediction\"]), list(df[\"gold\"]))\n",
        "    cols = [\"RMSE\", \"Accuracy\", \"Pearson's R\", \"Pearson's R p-val\"]\n",
        "    vals = [_rmse, acc, pear_corr[0], pear_corr[1]]\n",
        "    stats = pd.DataFrame(list(df[\"prediction\"]), columns=[\"Predic_Label\"]).describe()\n",
        "    extra = pd.DataFrame(vals, index=cols, columns=[\"Predic_Label\"])\n",
        "    print(f\"\\n{name} Gold stats: \")\n",
        "    print(pd.DataFrame(list(df[\"gold\"]), columns=[\"Gold_Label\"]).describe())\n",
        "    print(f\"\\n{name} Embedding Model Prediction stats: \")\n",
        "    print(stats.append(extra))\n",
        "    print(\"\\n------\")\n",
        "\n",
        "for df, name in zip([dev, train], [\"Dev\", \"Train\"]):\n",
        "    print(f\"\\n{name} Prediction Metrics:\")\n",
        "    metrics = get_scores(list(df[\"prediction\"]), list(df[\"gold\"]))\n",
        "    print(json.dumps(metrics, indent=2))"
      ],
      "execution_count": 11,
      "outputs": [
        {
          "output_type": "stream",
          "text": [
            "\n",
            "Dev Gold stats: \n",
            "        Gold_Label\n",
            "count  1209.000000\n",
            "mean      3.816377\n",
            "std       1.063869\n",
            "min       1.000000\n",
            "25%       3.000000\n",
            "50%       4.000000\n",
            "75%       5.000000\n",
            "max       5.000000\n",
            "\n",
            "Dev Embedding Model Prediction stats: \n",
            "                   Predic_Label\n",
            "count              1.209000e+03\n",
            "mean               4.062862e+00\n",
            "std                2.865970e-01\n",
            "min                3.000000e+00\n",
            "25%                4.000000e+00\n",
            "50%                4.000000e+00\n",
            "75%                4.000000e+00\n",
            "max                5.000000e+00\n",
            "RMSE               1.044898e+00\n",
            "Accuracy           3.581472e-01\n",
            "Pearson's R        2.985311e-01\n",
            "Pearson's R p-val  2.612130e-26\n",
            "\n",
            "------\n",
            "\n",
            "Train Gold stats: \n",
            "        Gold_Label\n",
            "count  1484.000000\n",
            "mean      3.853774\n",
            "std       0.999416\n",
            "min       1.000000\n",
            "25%       3.000000\n",
            "50%       4.000000\n",
            "75%       5.000000\n",
            "max       5.000000\n",
            "\n",
            "Train Embedding Model Prediction stats: \n",
            "                   Predic_Label\n",
            "count              1.484000e+03\n",
            "mean               4.045148e+00\n",
            "std                2.673199e-01\n",
            "min                3.000000e+00\n",
            "25%                4.000000e+00\n",
            "50%                4.000000e+00\n",
            "75%                4.000000e+00\n",
            "max                5.000000e+00\n",
            "RMSE               9.671143e-01\n",
            "Accuracy           4.595687e-01\n",
            "Pearson's R        3.200301e-01\n",
            "Pearson's R p-val  1.086964e-36\n",
            "\n",
            "------\n",
            "\n",
            "Dev Prediction Metrics:\n",
            "{\n",
            "  \"micro\": {\n",
            "    \"recall\": 0.211,\n",
            "    \"precision\": 0.326,\n",
            "    \"fscore\": 0.132\n",
            "  },\n",
            "  \"1\": {\n",
            "    \"recall\": 0.0,\n",
            "    \"precision\": 0.0,\n",
            "    \"fscore\": 0.0\n",
            "  },\n",
            "  \"2\": {\n",
            "    \"recall\": 0.0,\n",
            "    \"precision\": 0.0,\n",
            "    \"fscore\": 0.0\n",
            "  },\n",
            "  \"3\": {\n",
            "    \"recall\": 0.008,\n",
            "    \"precision\": 0.429,\n",
            "    \"fscore\": 0.015\n",
            "  },\n",
            "  \"4\": {\n",
            "    \"recall\": 0.951,\n",
            "    \"precision\": 0.314,\n",
            "    \"fscore\": 0.472\n",
            "  },\n",
            "  \"5\": {\n",
            "    \"recall\": 0.095,\n",
            "    \"precision\": 0.889,\n",
            "    \"fscore\": 0.171\n",
            "  }\n",
            "}\n",
            "\n",
            "Train Prediction Metrics:\n",
            "{\n",
            "  \"micro\": {\n",
            "    \"recall\": 0.208,\n",
            "    \"precision\": 0.301,\n",
            "    \"fscore\": 0.153\n",
            "  },\n",
            "  \"1\": {\n",
            "    \"recall\": 0.0,\n",
            "    \"precision\": 0.0,\n",
            "    \"fscore\": 0.0\n",
            "  },\n",
            "  \"2\": {\n",
            "    \"recall\": 0.0,\n",
            "    \"precision\": 0.0,\n",
            "    \"fscore\": 0.0\n",
            "  },\n",
            "  \"3\": {\n",
            "    \"recall\": 0.006,\n",
            "    \"precision\": 0.238,\n",
            "    \"fscore\": 0.012\n",
            "  },\n",
            "  \"4\": {\n",
            "    \"recall\": 0.951,\n",
            "    \"precision\": 0.439,\n",
            "    \"fscore\": 0.601\n",
            "  },\n",
            "  \"5\": {\n",
            "    \"recall\": 0.085,\n",
            "    \"precision\": 0.83,\n",
            "    \"fscore\": 0.154\n",
            "  }\n",
            "}\n"
          ],
          "name": "stdout"
        }
      ]
    },
    {
      "cell_type": "code",
      "metadata": {
        "id": "Vn9hVwQG8myb",
        "colab_type": "code",
        "outputId": "82d3994c-aedb-45dc-919b-8c75925633e3",
        "colab": {
          "base_uri": "https://localhost:8080/",
          "height": 465
        }
      },
      "source": [
        "from sklearn.metrics import confusion_matrix\n",
        "import matplotlib.pyplot as plt\n",
        "import seaborn as sns\n",
        "%matplotlib inline\n",
        "\n",
        "labels = [1, 2, 3, 4, 5]\n",
        "\n",
        "for df, name in zip([dev, train], [\"Dev\", \"Train\"]):\n",
        "    cm = confusion_matrix(list(df[\"gold\"]), list(df[\"prediction\"]))\n",
        "    df_cm = pd.DataFrame(cm, index=labels, columns=labels)\n",
        "\n",
        "    f,(ax1,ax2) = plt.subplots(1,2,sharey=False, figsize=(10,3))\n",
        "    g1 = sns.heatmap(df_cm,annot=True, fmt='d', ax=ax1)\n",
        "    g1.set_ylabel('True Label')\n",
        "    g1.set_xlabel('Predicted Label')\n",
        "    g1.set_title(f'{name} Confusion Matrix')\n",
        "\n",
        "    cm_norm = cm.astype('float') / cm.sum(axis=1)[:, np.newaxis]\n",
        "    df_cm_norm = pd.DataFrame(cm_norm, index=labels, columns=labels)\n",
        "    g2 = sns.heatmap(df_cm_norm,annot=True, vmin=0, vmax=1, ax=ax2)\n",
        "    g2.set_ylabel('True Label')\n",
        "    g2.set_xlabel('Predicted Label')\n",
        "    g2.set_title(f'{name} Normed Confusion Matrix')"
      ],
      "execution_count": 12,
      "outputs": [
        {
          "output_type": "display_data",
          "data": {
            "image/png": "[encoded data removed]",
            "text/plain": [
              "<Figure size 720x216 with 4 Axes>"
            ]
          },
          "metadata": {
            "tags": []
          }
        },
        {
          "output_type": "display_data",
          "data": {
            "image/png": "[encoded data removed]",
            "text/plain": [
              "<Figure size 720x216 with 4 Axes>"
            ]
          },
          "metadata": {
            "tags": []
          }
        }
      ]
    }
  ]
}