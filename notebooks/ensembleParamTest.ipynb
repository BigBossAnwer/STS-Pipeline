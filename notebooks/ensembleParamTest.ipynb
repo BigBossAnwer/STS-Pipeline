{
 "cells": [
  {
   "cell_type": "code",
   "execution_count": 1,
   "metadata": {},
   "outputs": [
    {
     "name": "stdout",
     "output_type": "stream",
     "text": [
      "/media/Windows/Users/white/Documents/UTD/Fall19/NLP.6320.501/Project/STS-Project\n"
     ]
    }
   ],
   "source": [
    "%cd .."
   ]
  },
  {
   "cell_type": "code",
   "execution_count": 2,
   "metadata": {},
   "outputs": [],
   "source": [
    "import json\n",
    "\n",
    "import numpy as np\n",
    "import pandas as pd\n",
    "from scipy.stats import pearsonr\n",
    "\n",
    "from sts_wrldom.corpusReader import read_data\n",
    "from sts_wrldom.pawarModel import pawarFit_Predict, disambiguate_pipe\n",
    "from sts_wrldom.utils import log_frame, accuracy, get_scores, rmse, write_results\n",
    "\n",
    "from sts_wrldom.enrichPipe import preprocess_raw\n",
    "from sts_wrldom.depTFIDFModel import depFit_Predict"
   ]
  },
  {
   "cell_type": "code",
   "execution_count": 3,
   "metadata": {
    "scrolled": true
   },
   "outputs": [
    {
     "name": "stdout",
     "output_type": "stream",
     "text": [
      "Reading dev-set from: data/dev-set.txt\n",
      "Dev DF shape: (1209, 4)\n",
      "Dev Pairs Omitted: 0 = 1209 - 1209\n",
      "\n",
      "Reading train-set from: data/train-set.txt\n",
      "Train DF shape: (1484, 4)\n",
      "Train Pairs Omitted: 0 = 1484 - 1484\n",
      "\n"
     ]
    }
   ],
   "source": [
    "dfs = read_data([\"dev\", \"train\"])\n",
    "dev = dfs[\"dev\"]\n",
    "train = dfs[\"train\"]\n",
    "dev_train = dev.append(train)"
   ]
  },
  {
   "cell_type": "code",
   "execution_count": 4,
   "metadata": {},
   "outputs": [
    {
     "name": "stdout",
     "output_type": "stream",
     "text": [
      "Enriching data from dataframe...\n",
      "S1 parse failures: 0\n",
      "S2 parse failures: 0\n",
      "\n",
      "Enriching data from dataframe...\n",
      "S1 parse failures: 0\n",
      "S2 parse failures: 0\n",
      "\n",
      "CPU times: user 1min 1s, sys: 1.28 s, total: 1min 2s\n",
      "Wall time: 1min 2s\n"
     ]
    }
   ],
   "source": [
    "%%time\n",
    "dev_docs = preprocess_raw(dfs[\"dev\"])\n",
    "train_docs = preprocess_raw(dfs[\"train\"])\n",
    "dev_train_docs = dev_docs + train_docs\n",
    "\n",
    "dev_dep_pred = depFit_Predict(dev_docs)\n",
    "train_dep_pred = depFit_Predict(train_docs)\n",
    "dev_train_dep_pred = depFit_Predict(dev_train_docs)"
   ]
  },
  {
   "cell_type": "code",
   "execution_count": 5,
   "metadata": {},
   "outputs": [
    {
     "name": "stderr",
     "output_type": "stream",
     "text": [
      "Warming up PyWSD (takes ~10 secs)... took 7.2811970710754395 secs.\n"
     ]
    },
    {
     "name": "stdout",
     "output_type": "stream",
     "text": [
      "Disambiguating Dev...\n",
      "Disambiguating Train...\n",
      "CPU times: user 1min 35s, sys: 1.93 s, total: 1min 37s\n",
      "Wall time: 1min 37s\n"
     ]
    }
   ],
   "source": [
    "%%time\n",
    "dev_disam = disambiguate_pipe(dev, \"Dev\")\n",
    "train_disam = disambiguate_pipe(train, \"Train\") \n",
    "\n",
    "dev_pawar_pred = pawarFit_Predict(dev_disam)\n",
    "train_pawar_pred = pawarFit_Predict(train_disam)\n",
    "dev_train_pawar_pred = dev_pawar_pred + train_pawar_pred"
   ]
  },
  {
   "cell_type": "code",
   "execution_count": 6,
   "metadata": {},
   "outputs": [],
   "source": [
    "dev_embed_pred = pd.read_csv(\"embeds/dev_embed_predics.csv\", index_col=0)[\"noRound\"]\n",
    "train_embed_pred = pd.read_csv(\"embeds/train_embed_predics.csv\", index_col=0)[\"noRound\"]\n",
    "dev_train_embed_pred = dev_embed_pred.append(train_embed_pred)"
   ]
  },
  {
   "cell_type": "code",
   "execution_count": 7,
   "metadata": {},
   "outputs": [],
   "source": [
    "assert len(dev_dep_pred) == len(dev_pawar_pred) == len(dev_embed_pred)"
   ]
  },
  {
   "cell_type": "code",
   "execution_count": 8,
   "metadata": {},
   "outputs": [],
   "source": [
    "assert len(train_dep_pred) == len(train_pawar_pred) == len(train_embed_pred)"
   ]
  },
  {
   "cell_type": "code",
   "execution_count": 9,
   "metadata": {},
   "outputs": [],
   "source": [
    "assert len(dev_train_dep_pred) == len(dev_train_pawar_pred) == len(dev_train_embed_pred)"
   ]
  },
  {
   "cell_type": "code",
   "execution_count": 10,
   "metadata": {},
   "outputs": [
    {
     "name": "stdout",
     "output_type": "stream",
     "text": [
      "CPU times: user 10 s, sys: 120 ms, total: 10.1 s\n",
      "Wall time: 10.1 s\n"
     ]
    }
   ],
   "source": [
    "%%time\n",
    "golds = dev[\"gold\"]\n",
    "\n",
    "all_acc = []\n",
    "ne_acc = []\n",
    "for a in np.arange(0.0, 1.1, .025):\n",
    "    for b in np.arange(0.0, 1.1, .025):\n",
    "        for c in np.arange(0.0, 1.1, .025):\n",
    "            if (a + b + c) == 1:\n",
    "                if a != 0 and b != 0 and c != 0:\n",
    "                    preds = []\n",
    "                    for dep, pawar, embed in zip(dev_dep_pred, dev_pawar_pred, dev_embed_pred):\n",
    "                        weighting = (dep * a) + (pawar * b) + (embed * c)\n",
    "                        preds.append(int(np.round(weighting)))\n",
    "\n",
    "                    acc = accuracy(preds, golds)\n",
    "                    _rmse = rmse(preds, golds)\n",
    "                    pear_corr = pearsonr(preds, golds)\n",
    "                    all_acc.append((acc, [a, b, c], _rmse, pear_corr, preds))\n",
    "                \n",
    "                if a != 0 and b != 0 and c == 0:\n",
    "                    preds = []\n",
    "                    for dep, pawar, embed in zip(dev_dep_pred, dev_pawar_pred, dev_embed_pred):\n",
    "                        weighting = (dep * a) + (pawar * b) + (embed * c)\n",
    "                        preds.append(int(np.round(weighting)))\n",
    "\n",
    "                    acc = accuracy(preds, golds)\n",
    "                    _rmse = rmse(preds, golds)\n",
    "                    pear_corr = pearsonr(preds, golds)\n",
    "                    ne_acc.append((acc, [a, b, c], _rmse, pear_corr, preds))"
   ]
  },
  {
   "cell_type": "code",
   "execution_count": 11,
   "metadata": {
    "scrolled": true
   },
   "outputs": [
    {
     "name": "stdout",
     "output_type": "stream",
     "text": [
      "acc:0.35401157981803144, params[a,b,c]:[0.4, 0.1, 0.5], rmse=1.0098767828925022, pear=(0.38559230130722294, 3.831984694201988e-44)\n",
      "\n",
      "acc:0.35814722911497104, params[a,b,c]:[0.35000000000000003, 0.07500000000000001, 0.5750000000000001], rmse=1.0098767828925022, pear=(0.38298844028946893, 1.591283075041212e-43)\n",
      "\n",
      "acc:0.3548387096774194, params[a,b,c]:[0.375, 0.1, 0.525], rmse=1.0127393670836666, pear=(0.3807679059426377, 5.304409892883672e-43)\n",
      "\n"
     ]
    }
   ],
   "source": [
    "dev_res = sorted(all_acc, key=lambda tup: tup[3][0], reverse=True)\n",
    "for elem in dev_res[:3]:\n",
    "    print(f\"acc:{elem[0]}, params[a,b,c]:{elem[1]}, rmse={elem[2]}, pear={elem[3]}\\n\")"
   ]
  },
  {
   "cell_type": "code",
   "execution_count": 12,
   "metadata": {},
   "outputs": [
    {
     "name": "stdout",
     "output_type": "stream",
     "text": [
      "acc:0.3523573200992556, params[a,b,c]:[0.9750000000000001, 0.025, 0.0], rmse=1.0476646998958088, pear=(0.35881824862935624, 4.783408936030424e-38)\n",
      "\n",
      "acc:0.3457402812241522, params[a,b,c]:[0.9500000000000001, 0.05, 0.0], rmse=1.053569300662559, pear=(0.3500985462248781, 3.493846630386299e-36)\n",
      "\n",
      "acc:0.3465674110835401, params[a,b,c]:[0.925, 0.07500000000000001, 0.0], rmse=1.0606114315655741, pear=(0.3421785100401286, 1.5338852995682415e-34)\n",
      "\n"
     ]
    }
   ],
   "source": [
    "dev_ne_res = sorted(ne_acc, key=lambda tup: tup[3][0], reverse=True)\n",
    "for elem in dev_ne_res[:3]:\n",
    "    print(f\"acc:{elem[0]}, params[a,b,c]:{elem[1]}, rmse={elem[2]}, pear={elem[3]}\\n\")"
   ]
  },
  {
   "cell_type": "code",
   "execution_count": 13,
   "metadata": {
    "scrolled": true
   },
   "outputs": [
    {
     "name": "stdout",
     "output_type": "stream",
     "text": [
      "\n",
      "Dev Gold stats: \n",
      "             count      mean       std  min  25%  50%  75%  max\n",
      "Gold_Label  1209.0  3.816377  1.063869  1.0  3.0  4.0  5.0  5.0\n",
      "\n",
      "Dev Best Ensemble Model Prediction stats: \n",
      "               count      mean       std  min  25%  50%  75%  max      RMSE  \\\n",
      "Predic_Label  1209.0  4.053763  0.437771  2.0  4.0  4.0  4.0  5.0  1.009877   \n",
      "\n",
      "              Accuracy  Pearson's R  Pearson's R p-val  \n",
      "Predic_Label  0.354012     0.385592       3.831985e-44  \n",
      "\n",
      "------\n",
      "\n",
      "Best Dev Prediction Metrics:\n",
      "{\n",
      "  \"micro\": {\n",
      "    \"recall\": 0.179,\n",
      "    \"precision\": 0.449,\n",
      "    \"fscore\": 0.14\n",
      "  },\n",
      "  \"1\": {\n",
      "    \"recall\": 0.0,\n",
      "    \"precision\": 0.0,\n",
      "    \"fscore\": 0.0\n",
      "  },\n",
      "  \"2\": {\n",
      "    \"recall\": 0.001,\n",
      "    \"precision\": 1.0,\n",
      "    \"fscore\": 0.003\n",
      "  },\n",
      "  \"3\": {\n",
      "    \"recall\": 0.022,\n",
      "    \"precision\": 0.195,\n",
      "    \"fscore\": 0.039\n",
      "  },\n",
      "  \"4\": {\n",
      "    \"recall\": 0.743,\n",
      "    \"precision\": 0.307,\n",
      "    \"fscore\": 0.434\n",
      "  },\n",
      "  \"5\": {\n",
      "    \"recall\": 0.13,\n",
      "    \"precision\": 0.745,\n",
      "    \"fscore\": 0.221\n",
      "  }\n",
      "}\n"
     ]
    }
   ],
   "source": [
    "stats = pd.DataFrame(dev_res[0][4], columns=[\"Predic_Label\"]).describe()\n",
    "cols = [\"RMSE\", \"Accuracy\", \"Pearson's R\", \"Pearson's R p-val\"]\n",
    "vals = [dev_res[0][2], dev_res[0][0], dev_res[0][3][0], dev_res[0][3][1]]\n",
    "extra = pd.DataFrame(vals, index=cols, columns=[\"Predic_Label\"])\n",
    "print(f\"\\nDev Gold stats: \")\n",
    "print(pd.DataFrame(list(dev[\"gold\"]), columns=[\"Gold_Label\"]).describe().T)\n",
    "print(f\"\\nDev Best Ensemble Model Prediction stats: \")\n",
    "print(stats.append(extra).T)\n",
    "print(\"\\n------\")\n",
    "\n",
    "print(f\"\\nBest Dev Prediction Metrics:\")\n",
    "metrics = get_scores(dev_res[0][4], golds)\n",
    "print(json.dumps(metrics, indent=2))"
   ]
  },
  {
   "cell_type": "code",
   "execution_count": 14,
   "metadata": {},
   "outputs": [],
   "source": [
    "dev[\"prediction\"] = dev_res[0][4]"
   ]
  },
  {
   "cell_type": "code",
   "execution_count": 15,
   "metadata": {},
   "outputs": [
    {
     "name": "stdout",
     "output_type": "stream",
     "text": [
      "CPU times: user 13 s, sys: 39.8 ms, total: 13.1 s\n",
      "Wall time: 13.1 s\n"
     ]
    }
   ],
   "source": [
    "%%time\n",
    "golds = train[\"gold\"]\n",
    "\n",
    "t_all_acc = []\n",
    "t_ne_acc = []\n",
    "for a in np.arange(0.0, 1.1, .025):\n",
    "    for b in np.arange(0.0, 1.1, .025):\n",
    "        for c in np.arange(0.0, 1.1, .025):\n",
    "            if (a + b + c) == 1:\n",
    "                if a != 0 and b != 0 and c != 0:\n",
    "                    preds = []\n",
    "                    for dep, pawar, embed in zip(train_dep_pred, train_pawar_pred, train_embed_pred):\n",
    "                        weighting = (dep * a) + (pawar * b) + (embed * c)\n",
    "                        preds.append(int(np.round(weighting)))\n",
    "\n",
    "                    acc = accuracy(preds, golds)\n",
    "                    _rmse = rmse(preds, golds)\n",
    "                    pear_corr = pearsonr(preds, golds)\n",
    "                    t_all_acc.append((acc, [a, b, c], _rmse, pear_corr, preds))\n",
    "                \n",
    "                if a != 0 and b != 0 and c == 0:\n",
    "                    preds = []\n",
    "                    for dep, pawar, embed in zip(train_dep_pred, train_pawar_pred, train_embed_pred):\n",
    "                        weighting = (dep * a) + (pawar * b) + (embed * c)\n",
    "                        preds.append(int(np.round(weighting)))\n",
    "\n",
    "                    acc = accuracy(preds, golds)\n",
    "                    _rmse = rmse(preds, golds)\n",
    "                    pear_corr = pearsonr(preds, golds)\n",
    "                    t_ne_acc.append((acc, [a, b, c], _rmse, pear_corr, preds))"
   ]
  },
  {
   "cell_type": "code",
   "execution_count": 16,
   "metadata": {},
   "outputs": [
    {
     "name": "stdout",
     "output_type": "stream",
     "text": [
      "acc:0.45754716981132076, params[a,b,c]:[0.35000000000000003, 0.025, 0.625], rmse=0.9141003855292907, pear=(0.43827612913155367, 1.0741145360804136e-70)\n",
      "\n",
      "acc:0.45619946091644203, params[a,b,c]:[0.4, 0.025, 0.5750000000000001], rmse=0.9133629103099814, pear=(0.4371485460940911, 2.6614212267322794e-70)\n",
      "\n",
      "acc:0.4582210242587601, params[a,b,c]:[0.325, 0.025, 0.65], rmse=0.9166768765256781, pear=(0.4343419457584354, 2.5090365690224063e-69)\n",
      "\n"
     ]
    }
   ],
   "source": [
    "train_res = sorted(t_all_acc, key=lambda tup: tup[3][0], reverse=True)\n",
    "for elem in train_res[:3]:\n",
    "    print(f\"acc:{elem[0]}, params[a,b,c]:{elem[1]}, rmse={elem[2]}, pear={elem[3]}\\n\")"
   ]
  },
  {
   "cell_type": "code",
   "execution_count": 17,
   "metadata": {},
   "outputs": [
    {
     "name": "stdout",
     "output_type": "stream",
     "text": [
      "acc:0.42857142857142855, params[a,b,c]:[0.9750000000000001, 0.025, 0.0], rmse=0.9601212861389101, pear=(0.40063343936566626, 2.5631570881044666e-58)\n",
      "\n",
      "acc:0.4326145552560647, params[a,b,c]:[0.9500000000000001, 0.05, 0.0], rmse=0.9601212861389101, pear=(0.3991005094631644, 7.586393565830306e-58)\n",
      "\n",
      "acc:0.43194070080862534, params[a,b,c]:[0.925, 0.07500000000000001, 0.0], rmse=0.9646724790900519, pear=(0.3895141259203974, 5.907316805424414e-55)\n",
      "\n"
     ]
    }
   ],
   "source": [
    "train_ne_res = sorted(t_ne_acc, key=lambda tup: tup[3][0], reverse=True)\n",
    "for elem in train_ne_res[:3]:\n",
    "    print(f\"acc:{elem[0]}, params[a,b,c]:{elem[1]}, rmse={elem[2]}, pear={elem[3]}\\n\")"
   ]
  },
  {
   "cell_type": "code",
   "execution_count": 18,
   "metadata": {},
   "outputs": [],
   "source": [
    "train[\"prediction\"] = train_res[0][4]"
   ]
  },
  {
   "cell_type": "code",
   "execution_count": 19,
   "metadata": {},
   "outputs": [
    {
     "name": "stdout",
     "output_type": "stream",
     "text": [
      "CPU times: user 20.2 s, sys: 180 ms, total: 20.4 s\n",
      "Wall time: 20.4 s\n"
     ]
    }
   ],
   "source": [
    "%%time\n",
    "golds = dev_train[\"gold\"]\n",
    "\n",
    "dt_all_acc = []\n",
    "dt_ne_acc = []\n",
    "for a in np.arange(0.0, 1.1, .025):\n",
    "    for b in np.arange(0.0, 1.1, .025):\n",
    "        for c in np.arange(0.0, 1.1, .025):\n",
    "            if (a + b + c) == 1:\n",
    "                if a != 0 and b != 0 and c != 0:\n",
    "                    preds = []\n",
    "                    for dep, pawar, embed in zip(dev_train_dep_pred, dev_train_pawar_pred, dev_train_embed_pred):\n",
    "                        weighting = (dep * a) + (pawar * b) + (embed * c)\n",
    "                        preds.append(int(np.round(weighting)))\n",
    "\n",
    "                    acc = accuracy(preds, golds)\n",
    "                    _rmse = rmse(preds, golds)\n",
    "                    pear_corr = pearsonr(preds, golds)\n",
    "                    dt_all_acc.append((acc, [a, b, c], _rmse, pear_corr, preds))\n",
    "                \n",
    "                if a != 0 and b != 0 and c == 0:\n",
    "                    preds = []\n",
    "                    for dep, pawar, embed in zip(dev_train_dep_pred, dev_train_pawar_pred, dev_train_embed_pred):\n",
    "                        weighting = (dep * a) + (pawar * b) + (embed * c)\n",
    "                        preds.append(int(np.round(weighting)))\n",
    "\n",
    "                    acc = accuracy(preds, golds)\n",
    "                    _rmse = rmse(preds, golds)\n",
    "                    pear_corr = pearsonr(preds, golds)\n",
    "                    dt_ne_acc.append((acc, [a, b, c], _rmse, pear_corr, preds))"
   ]
  },
  {
   "cell_type": "code",
   "execution_count": 20,
   "metadata": {},
   "outputs": [
    {
     "name": "stdout",
     "output_type": "stream",
     "text": [
      "acc:0.4103230597846268, params[a,b,c]:[0.4, 0.025, 0.5750000000000001], rmse=0.956343761558088, pear=(0.41091746819750496, 3.1536791216700846e-110)\n",
      "\n",
      "acc:0.4103230597846268, params[a,b,c]:[0.375, 0.025, 0.6000000000000001], rmse=0.9571200147391051, pear=(0.4103025345518991, 7.151511868652823e-110)\n",
      "\n",
      "acc:0.4095803936130709, params[a,b,c]:[0.35000000000000003, 0.025, 0.625], rmse=0.9573139796848069, pear=(0.40978689200101615, 1.4190222421519156e-109)\n",
      "\n",
      "acc:0.41069439287040477, params[a,b,c]:[0.325, 0.025, 0.65], rmse=0.957701791724083, pear=(0.4096182584451843, 1.775000911631607e-109)\n",
      "\n",
      "acc:0.4110657259561827, params[a,b,c]:[0.35000000000000003, 0.05, 0.6000000000000001], rmse=0.9600253740921925, pear=(0.40742731600477916, 3.214377016983729e-108)\n",
      "\n",
      "acc:0.4095803936130709, params[a,b,c]:[0.375, 0.05, 0.5750000000000001], rmse=0.9602187521531914, pear=(0.4070072325109342, 5.587364887303476e-108)\n",
      "\n",
      "acc:0.40883772744151503, params[a,b,c]:[0.42500000000000004, 0.025, 0.55], rmse=0.9578956388653707, pear=(0.4059443927285607, 2.2550851615792993e-107)\n",
      "\n",
      "acc:0.409209060527293, params[a,b,c]:[0.4, 0.07500000000000001, 0.525], rmse=0.9629219673408241, pear=(0.4028842262240734, 1.2178119687595093e-105)\n",
      "\n",
      "acc:0.40698106201262535, params[a,b,c]:[0.4, 0.05, 0.55], rmse=0.9617643768994855, pear=(0.4017144463368427, 5.533803350980615e-105)\n",
      "\n",
      "acc:0.4099517266988489, params[a,b,c]:[0.30000000000000004, 0.025, 0.675], rmse=0.9619574053764717, pear=(0.40042524121127243, 2.9142879989321616e-104)\n",
      "\n"
     ]
    }
   ],
   "source": [
    "dev_train_res = sorted(dt_all_acc, key=lambda tup: tup[3][0], reverse=True)\n",
    "for elem in dev_train_res[:10]:\n",
    "    print(f\"acc:{elem[0]}, params[a,b,c]:{elem[1]}, rmse={elem[2]}, pear={elem[3]}\\n\")"
   ]
  },
  {
   "cell_type": "code",
   "execution_count": 21,
   "metadata": {},
   "outputs": [
    {
     "name": "stdout",
     "output_type": "stream",
     "text": [
      "acc:0.3965837356108429, params[a,b,c]:[0.9750000000000001, 0.025, 0.0], rmse=1.0038914258032772, pear=(0.37804967523357424, 3.0733488756539445e-92)\n",
      "\n",
      "acc:0.3980690679539547, params[a,b,c]:[0.9500000000000001, 0.05, 0.0], rmse=1.0044461130686257, pear=(0.37591614525798994, 3.8526043208095424e-91)\n",
      "\n",
      "acc:0.3976977348681768, params[a,b,c]:[0.925, 0.07500000000000001, 0.0], rmse=1.0070306138641276, pear=(0.3730369505653606, 1.1341517509755665e-89)\n",
      "\n",
      "acc:0.39249907166728554, params[a,b,c]:[0.9, 0.1, 0.0], rmse=1.0154762327131774, pear=(0.35772641004197553, 4.15479929891508e-82)\n",
      "\n",
      "acc:0.3965837356108429, params[a,b,c]:[0.875, 0.125, 0.0], rmse=1.0213102554807925, pear=(0.34862555955219804, 8.346617062248372e-78)\n",
      "\n",
      "acc:0.3973264017823988, params[a,b,c]:[0.8500000000000001, 0.15000000000000002, 0.0], rmse=1.0265687007881166, pear=(0.34214251525540096, 7.960745243827402e-75)\n",
      "\n",
      "acc:0.39955440029706646, params[a,b,c]:[0.8, 0.2, 0.0], rmse=1.0303597877630601, pear=(0.33949442795004564, 1.2522432574308954e-73)\n",
      "\n",
      "acc:0.3988117341255106, params[a,b,c]:[0.775, 0.225, 0.0], rmse=1.0332388986152166, pear=(0.33841745262611295, 3.811216594730949e-73)\n",
      "\n",
      "acc:0.39918306721128854, params[a,b,c]:[0.8250000000000001, 0.17500000000000002, 0.0], rmse=1.0303597877630601, pear=(0.33756741181376887, 9.145902867241025e-73)\n",
      "\n",
      "acc:0.3988117341255106, params[a,b,c]:[0.75, 0.25, 0.0], rmse=1.0395091532130987, pear=(0.3313513152490677, 5.070465722652716e-70)\n",
      "\n"
     ]
    }
   ],
   "source": [
    "dev_train_ne_res = sorted(dt_ne_acc, key=lambda tup: tup[3][0], reverse=True)\n",
    "for elem in dev_train_ne_res[:10]:\n",
    "    print(f\"acc:{elem[0]}, params[a,b,c]:{elem[1]}, rmse={elem[2]}, pear={elem[3]}\\n\")"
   ]
  },
  {
   "cell_type": "code",
   "execution_count": 22,
   "metadata": {},
   "outputs": [],
   "source": [
    "dev_train[\"prediction\"] = dev_train_res[0][4]"
   ]
  },
  {
   "cell_type": "code",
   "execution_count": 23,
   "metadata": {},
   "outputs": [],
   "source": [
    "for df, name in zip([dev, train], [\"dev\", \"train\"]):\n",
    "    log_frame(df, name=name, tag=\"ensemble_predics\")\n",
    "    res = df[[\"id\", \"prediction\"]]\n",
    "    write_results(res, name, \"ensemblePredic\")"
   ]
  },
  {
   "cell_type": "code",
   "execution_count": 24,
   "metadata": {},
   "outputs": [],
   "source": [
    "from sklearn.metrics import confusion_matrix\n",
    "import matplotlib.pyplot as plt\n",
    "import seaborn as sns\n",
    "%matplotlib inline\n",
    "\n",
    "labels = [1, 2, 3, 4, 5]"
   ]
  },
  {
   "cell_type": "code",
   "execution_count": 25,
   "metadata": {},
   "outputs": [
    {
     "data": {
      "image/png": "[encoded data removed]",
      "text/plain": [
       "<Figure size 720x216 with 4 Axes>"
      ]
     },
     "metadata": {
      "needs_background": "light"
     },
     "output_type": "display_data"
    },
    {
     "data": {
      "image/png": "[encoded data removed]",
      "text/plain": [
       "<Figure size 720x216 with 4 Axes>"
      ]
     },
     "metadata": {
      "needs_background": "light"
     },
     "output_type": "display_data"
    },
    {
     "data": {
      "image/png": "[encoded data removed]",
      "text/plain": [
       "<Figure size 720x216 with 4 Axes>"
      ]
     },
     "metadata": {
      "needs_background": "light"
     },
     "output_type": "display_data"
    }
   ],
   "source": [
    "for df, name in zip([dev, train, dev_train], [\"Dev-Set\", \"Train-Set\", \"Dev_Train-Set\"]):\n",
    "    cm = confusion_matrix(list(df[\"gold\"]), list(df[\"prediction\"]))\n",
    "    df_cm = pd.DataFrame(cm, index=labels, columns=labels)\n",
    "\n",
    "    f,(ax1,ax2) = plt.subplots(1,2,sharey=False, figsize=(10,3))\n",
    "    g1 = sns.heatmap(df_cm,annot=True, fmt='d', ax=ax1)\n",
    "    g1.set_ylabel('True Label')\n",
    "    g1.set_xlabel('Predicted Label')\n",
    "    g1.set_title(f'{name} Confusion Matrix')\n",
    "\n",
    "    cm_norm = cm.astype('float') / cm.sum(axis=1)[:, np.newaxis]\n",
    "    df_cm_norm = pd.DataFrame(cm_norm, index=labels, columns=labels)\n",
    "    g2 = sns.heatmap(df_cm_norm,annot=True, vmin=0, vmax=1, ax=ax2)\n",
    "    g2.set_ylabel('True Label')\n",
    "    g2.set_xlabel('Predicted Label')\n",
    "    g2.set_title(f'{name} Normed Confusion Matrix')"
   ]
  }
 ],
 "metadata": {
  "kernelspec": {
   "display_name": "Python 3",
   "language": "python",
   "name": "python3"
  },
  "language_info": {
   "codemirror_mode": {
    "name": "ipython",
    "version": 3
   },
   "file_extension": ".py",
   "mimetype": "text/x-python",
   "name": "python",
   "nbconvert_exporter": "python",
   "pygments_lexer": "ipython3",
   "version": "3.8.0"
  }
 },
 "nbformat": 4,
 "nbformat_minor": 2
}
